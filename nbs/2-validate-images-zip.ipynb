{
 "cells": [
  {
   "cell_type": "code",
   "execution_count": 3,
   "metadata": {},
   "outputs": [],
   "source": [
    "import mimetypes\n",
    "import pathlib\n",
    "import shutil\n",
    "import tempfile\n",
    "\n",
    "from PIL import Image, ImageOps\n",
    "from pillow_heif import register_heif_opener\n",
    "\n",
    "register_heif_opener()"
   ]
  },
  {
   "cell_type": "code",
   "execution_count": 4,
   "metadata": {},
   "outputs": [],
   "source": [
    "NBS_DIR = pathlib.Path().resolve()\n",
    "REPO_DIR = NBS_DIR.parent\n",
    "DATA_DIR = REPO_DIR / 'data'\n",
    "INPUTS_DIR = DATA_DIR / 'inputs'\n",
    "OUTPUTS_DIR = DATA_DIR / 'outputs'"
   ]
  },
  {
   "cell_type": "code",
   "execution_count": 8,
   "metadata": {},
   "outputs": [],
   "source": [
    "def perform_is_image(path, require_can_open=True):\n",
    "    try:\n",
    "        guessed_type, encoding = mimetypes.guess_type(path)\n",
    "    except:\n",
    "        guessed_type = \"\"\n",
    "    guessed_image = \"image\" in guessed_type\n",
    "    if not guessed_image:\n",
    "        return False\n",
    "    if guessed_image and require_can_open:\n",
    "        try:\n",
    "            Image.open(path)\n",
    "        except:\n",
    "            return False\n",
    "    return True\n",
    "        "
   ]
  },
  {
   "cell_type": "code",
   "execution_count": 9,
   "metadata": {},
   "outputs": [],
   "source": [
    "image_file_paths = []\n",
    "for file_path in INPUTS_DIR.glob('*'):\n",
    "    is_image = perform_is_image(file_path)\n",
    "    if not is_image:\n",
    "        continue\n",
    "    image_file_paths.append(file_path)\n"
   ]
  },
  {
   "cell_type": "code",
   "execution_count": 10,
   "metadata": {},
   "outputs": [
    {
     "data": {
      "text/plain": [
       "[WindowsPath('F:/py4e/Machine_Learning_from_scratch/Python Projects/ai_photo_generator/data/inputs/1.jpeg'),\n",
       " WindowsPath('F:/py4e/Machine_Learning_from_scratch/Python Projects/ai_photo_generator/data/inputs/10.png'),\n",
       " WindowsPath('F:/py4e/Machine_Learning_from_scratch/Python Projects/ai_photo_generator/data/inputs/11.png'),\n",
       " WindowsPath('F:/py4e/Machine_Learning_from_scratch/Python Projects/ai_photo_generator/data/inputs/12.png'),\n",
       " WindowsPath('F:/py4e/Machine_Learning_from_scratch/Python Projects/ai_photo_generator/data/inputs/13.png'),\n",
       " WindowsPath('F:/py4e/Machine_Learning_from_scratch/Python Projects/ai_photo_generator/data/inputs/14.png'),\n",
       " WindowsPath('F:/py4e/Machine_Learning_from_scratch/Python Projects/ai_photo_generator/data/inputs/2.jpeg'),\n",
       " WindowsPath('F:/py4e/Machine_Learning_from_scratch/Python Projects/ai_photo_generator/data/inputs/3.jpg'),\n",
       " WindowsPath('F:/py4e/Machine_Learning_from_scratch/Python Projects/ai_photo_generator/data/inputs/4.jpeg'),\n",
       " WindowsPath('F:/py4e/Machine_Learning_from_scratch/Python Projects/ai_photo_generator/data/inputs/5.jpeg'),\n",
       " WindowsPath('F:/py4e/Machine_Learning_from_scratch/Python Projects/ai_photo_generator/data/inputs/6.jpeg'),\n",
       " WindowsPath('F:/py4e/Machine_Learning_from_scratch/Python Projects/ai_photo_generator/data/inputs/7.jpeg'),\n",
       " WindowsPath('F:/py4e/Machine_Learning_from_scratch/Python Projects/ai_photo_generator/data/inputs/8.png'),\n",
       " WindowsPath('F:/py4e/Machine_Learning_from_scratch/Python Projects/ai_photo_generator/data/inputs/9.png')]"
      ]
     },
     "execution_count": 10,
     "metadata": {},
     "output_type": "execute_result"
    }
   ],
   "source": [
    "image_file_paths"
   ]
  },
  {
   "cell_type": "code",
   "execution_count": null,
   "metadata": {},
   "outputs": [],
   "source": []
  }
 ],
 "metadata": {
  "kernelspec": {
   "display_name": "venv",
   "language": "python",
   "name": "python3"
  },
  "language_info": {
   "codemirror_mode": {
    "name": "ipython",
    "version": 3
   },
   "file_extension": ".py",
   "mimetype": "text/x-python",
   "name": "python",
   "nbconvert_exporter": "python",
   "pygments_lexer": "ipython3",
   "version": "3.10.5"
  }
 },
 "nbformat": 4,
 "nbformat_minor": 2
}

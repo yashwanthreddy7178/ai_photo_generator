{
 "cells": [
  {
   "cell_type": "code",
   "execution_count": 20,
   "metadata": {},
   "outputs": [],
   "source": [
    "import mimetypes\n",
    "import pathlib\n",
    "import shutil\n",
    "import tempfile"
   ]
  },
  {
   "cell_type": "code",
   "execution_count": 6,
   "metadata": {},
   "outputs": [],
   "source": [
    "NBS_DIR = pathlib.Path().resolve()\n",
    "REPO_DIR = NBS_DIR.parent\n",
    "DATA_DIR = REPO_DIR / 'data'\n",
    "INPUTS_DIR = DATA_DIR / 'inputs'\n",
    "OUTPUTS_DIR = DATA_DIR / 'outputs'"
   ]
  },
  {
   "cell_type": "code",
   "execution_count": 11,
   "metadata": {},
   "outputs": [
    {
     "name": "stdout",
     "output_type": "stream",
     "text": [
      "F:\\py4e\\Machine_Learning_from_scratch\\Python Projects\\ai_photo_generator\\data\\inputs\\1.jpeg\n",
      "F:\\py4e\\Machine_Learning_from_scratch\\Python Projects\\ai_photo_generator\\data\\inputs\\10.png\n",
      "F:\\py4e\\Machine_Learning_from_scratch\\Python Projects\\ai_photo_generator\\data\\inputs\\11.png\n",
      "F:\\py4e\\Machine_Learning_from_scratch\\Python Projects\\ai_photo_generator\\data\\inputs\\12.png\n",
      "F:\\py4e\\Machine_Learning_from_scratch\\Python Projects\\ai_photo_generator\\data\\inputs\\13.png\n",
      "F:\\py4e\\Machine_Learning_from_scratch\\Python Projects\\ai_photo_generator\\data\\inputs\\14.png\n",
      "F:\\py4e\\Machine_Learning_from_scratch\\Python Projects\\ai_photo_generator\\data\\inputs\\2.jpeg\n",
      "F:\\py4e\\Machine_Learning_from_scratch\\Python Projects\\ai_photo_generator\\data\\inputs\\3.jpg\n",
      "F:\\py4e\\Machine_Learning_from_scratch\\Python Projects\\ai_photo_generator\\data\\inputs\\4.jpeg\n",
      "F:\\py4e\\Machine_Learning_from_scratch\\Python Projects\\ai_photo_generator\\data\\inputs\\5.jpeg\n",
      "F:\\py4e\\Machine_Learning_from_scratch\\Python Projects\\ai_photo_generator\\data\\inputs\\6.jpeg\n",
      "F:\\py4e\\Machine_Learning_from_scratch\\Python Projects\\ai_photo_generator\\data\\inputs\\7.jpeg\n",
      "F:\\py4e\\Machine_Learning_from_scratch\\Python Projects\\ai_photo_generator\\data\\inputs\\8.png\n",
      "F:\\py4e\\Machine_Learning_from_scratch\\Python Projects\\ai_photo_generator\\data\\inputs\\9.png\n",
      "F:\\py4e\\Machine_Learning_from_scratch\\Python Projects\\ai_photo_generator\\data\\inputs\\not-an-image.txt\n"
     ]
    }
   ],
   "source": [
    "for file_path in INPUTS_DIR.glob('*'):\n",
    "    print(file_path)\n"
   ]
  },
  {
   "cell_type": "code",
   "execution_count": 18,
   "metadata": {},
   "outputs": [
    {
     "name": "stdout",
     "output_type": "stream",
     "text": [
      "1.jpeg image/jpeg\n",
      "10.png image/png\n",
      "11.png image/png\n",
      "12.png image/png\n",
      "13.png image/png\n",
      "14.png image/png\n",
      "2.jpeg image/jpeg\n",
      "3.jpg image/jpeg\n",
      "4.jpeg image/jpeg\n",
      "5.jpeg image/jpeg\n",
      "6.jpeg image/jpeg\n",
      "7.jpeg image/jpeg\n",
      "8.png image/png\n",
      "9.png image/png\n",
      "not-an-image.txt text/plain\n"
     ]
    }
   ],
   "source": [
    "image_file_paths = []\n",
    "\n",
    "for file_path in INPUTS_DIR.glob('*'):\n",
    "    guessed_type, encoding = mimetypes.guess_type(file_path)\n",
    "    print(file_path.name, guessed_type)\n",
    "    if \"image\" in guessed_type:\n",
    "        image_file_paths.append(file_path)\n"
   ]
  },
  {
   "cell_type": "code",
   "execution_count": 19,
   "metadata": {},
   "outputs": [
    {
     "data": {
      "text/plain": [
       "[WindowsPath('F:/py4e/Machine_Learning_from_scratch/Python Projects/ai_photo_generator/data/inputs/1.jpeg'),\n",
       " WindowsPath('F:/py4e/Machine_Learning_from_scratch/Python Projects/ai_photo_generator/data/inputs/10.png'),\n",
       " WindowsPath('F:/py4e/Machine_Learning_from_scratch/Python Projects/ai_photo_generator/data/inputs/11.png'),\n",
       " WindowsPath('F:/py4e/Machine_Learning_from_scratch/Python Projects/ai_photo_generator/data/inputs/12.png'),\n",
       " WindowsPath('F:/py4e/Machine_Learning_from_scratch/Python Projects/ai_photo_generator/data/inputs/13.png'),\n",
       " WindowsPath('F:/py4e/Machine_Learning_from_scratch/Python Projects/ai_photo_generator/data/inputs/14.png'),\n",
       " WindowsPath('F:/py4e/Machine_Learning_from_scratch/Python Projects/ai_photo_generator/data/inputs/2.jpeg'),\n",
       " WindowsPath('F:/py4e/Machine_Learning_from_scratch/Python Projects/ai_photo_generator/data/inputs/3.jpg'),\n",
       " WindowsPath('F:/py4e/Machine_Learning_from_scratch/Python Projects/ai_photo_generator/data/inputs/4.jpeg'),\n",
       " WindowsPath('F:/py4e/Machine_Learning_from_scratch/Python Projects/ai_photo_generator/data/inputs/5.jpeg'),\n",
       " WindowsPath('F:/py4e/Machine_Learning_from_scratch/Python Projects/ai_photo_generator/data/inputs/6.jpeg'),\n",
       " WindowsPath('F:/py4e/Machine_Learning_from_scratch/Python Projects/ai_photo_generator/data/inputs/7.jpeg'),\n",
       " WindowsPath('F:/py4e/Machine_Learning_from_scratch/Python Projects/ai_photo_generator/data/inputs/8.png'),\n",
       " WindowsPath('F:/py4e/Machine_Learning_from_scratch/Python Projects/ai_photo_generator/data/inputs/9.png')]"
      ]
     },
     "execution_count": 19,
     "metadata": {},
     "output_type": "execute_result"
    }
   ],
   "source": [
    "image_file_paths"
   ]
  },
  {
   "cell_type": "code",
   "execution_count": 21,
   "metadata": {},
   "outputs": [],
   "source": [
    "OUTPUTS_DIR.mkdir(exist_ok=True, parents=True)"
   ]
  },
  {
   "cell_type": "code",
   "execution_count": 23,
   "metadata": {},
   "outputs": [
    {
     "data": {
      "text/plain": [
       "False"
      ]
     },
     "execution_count": 23,
     "metadata": {},
     "output_type": "execute_result"
    }
   ],
   "source": [
    "zip_outpath = OUTPUTS_DIR / 'images.zip'\n",
    "zip_outpath.exists()"
   ]
  },
  {
   "cell_type": "code",
   "execution_count": 24,
   "metadata": {},
   "outputs": [],
   "source": [
    "with tempfile.TemporaryDirectory() as temp_dir:\n",
    "    for path in image_file_paths:\n",
    "        shutil.copy(path, temp_dir)\n",
    "    shutil.make_archive(zip_outpath.with_suffix(''), 'zip', temp_dir)\n",
    "\n"
   ]
  },
  {
   "cell_type": "code",
   "execution_count": null,
   "metadata": {},
   "outputs": [],
   "source": []
  },
  {
   "cell_type": "code",
   "execution_count": null,
   "metadata": {},
   "outputs": [],
   "source": []
  },
  {
   "cell_type": "code",
   "execution_count": null,
   "metadata": {},
   "outputs": [],
   "source": []
  },
  {
   "cell_type": "code",
   "execution_count": null,
   "metadata": {},
   "outputs": [],
   "source": []
  },
  {
   "cell_type": "code",
   "execution_count": null,
   "metadata": {},
   "outputs": [],
   "source": []
  }
 ],
 "metadata": {
  "kernelspec": {
   "display_name": "venv",
   "language": "python",
   "name": "python3"
  },
  "language_info": {
   "codemirror_mode": {
    "name": "ipython",
    "version": 3
   },
   "file_extension": ".py",
   "mimetype": "text/x-python",
   "name": "python",
   "nbconvert_exporter": "python",
   "pygments_lexer": "ipython3",
   "version": "3.10.5"
  }
 },
 "nbformat": 4,
 "nbformat_minor": 2
}
